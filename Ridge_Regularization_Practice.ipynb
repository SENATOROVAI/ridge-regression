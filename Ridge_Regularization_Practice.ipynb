{
 "cells": [
  {
   "cell_type": "markdown",
   "id": "47e59191",
   "metadata": {},
   "source": [
    "# 🧩 Практикум: Понимание L2-регуляризации (Ridge Regression)\n",
    "Этот ноутбук поможет тебе глубоко понять, как работает L2-регуляризация в линейной регрессии. Используется датасет [Boston Housing](https://raw.githubusercontent.com/SENATOROVAI/ridge-regression/refs/heads/main/boston.csv)."
   ]
  },
  {
   "cell_type": "code",
   "execution_count": null,
   "id": "e76e5856",
   "metadata": {},
   "outputs": [],
   "source": [
    "\n",
    "import pandas as pd\n",
    "import numpy as np\n",
    "import matplotlib.pyplot as plt\n",
    "from sklearn.model_selection import train_test_split, GridSearchCV, learning_curve\n",
    "from sklearn.preprocessing import StandardScaler\n",
    "from sklearn.linear_model import Ridge, LinearRegression\n",
    "from sklearn.metrics import mean_squared_error\n",
    "\n",
    "url = \"https://raw.githubusercontent.com/SENATOROVAI/ridge-regression/refs/heads/main/boston.csv\"\n",
    "df = pd.read_csv(url)\n",
    "df.head()\n"
   ]
  },
  {
   "cell_type": "markdown",
   "id": "95ca34ae",
   "metadata": {},
   "source": [
    "## Задание 1: Базовая Ridge-регрессия"
   ]
  },
  {
   "cell_type": "code",
   "execution_count": null,
   "id": "cd820226",
   "metadata": {},
   "outputs": [],
   "source": [
    "\n",
    "X = df.drop(columns=['MEDV'])\n",
    "y = df['MEDV']\n",
    "X_train, X_test, y_train, y_test = train_test_split(X, y, test_size=0.2, random_state=42)\n",
    "\n",
    "alphas = [0, 0.01, 0.1, 1, 10, 100]\n",
    "results = []\n",
    "\n",
    "for a in alphas:\n",
    "    model = Ridge(alpha=a)\n",
    "    model.fit(X_train, y_train)\n",
    "    y_pred = model.predict(X_test)\n",
    "    rmse = mean_squared_error(y_test, y_pred, squared=False)\n",
    "    results.append((a, rmse))\n",
    "\n",
    "pd.DataFrame(results, columns=['alpha', 'RMSE'])\n"
   ]
  },
  {
   "cell_type": "markdown",
   "id": "79dde4b2",
   "metadata": {},
   "source": [
    "## Задание 2: График коэффициентов в зависимости от λ"
   ]
  },
  {
   "cell_type": "code",
   "execution_count": null,
   "id": "104c3f9a",
   "metadata": {},
   "outputs": [],
   "source": [
    "\n",
    "coefs = []\n",
    "alphas = np.logspace(-3, 3, 50)\n",
    "\n",
    "for a in alphas:\n",
    "    ridge = Ridge(alpha=a)\n",
    "    ridge.fit(X_train, y_train)\n",
    "    coefs.append(ridge.coef_)\n",
    "\n",
    "plt.figure(figsize=(8,6))\n",
    "plt.plot(alphas, coefs)\n",
    "plt.xscale('log')\n",
    "plt.xlabel('log(alpha)')\n",
    "plt.ylabel('коэффициенты')\n",
    "plt.title('Зависимость коэффициентов от λ')\n",
    "plt.show()\n"
   ]
  },
  {
   "cell_type": "markdown",
   "id": "d224b414",
   "metadata": {},
   "source": [
    "## Задание 3: Стандартизация признаков"
   ]
  },
  {
   "cell_type": "code",
   "execution_count": null,
   "id": "3e14f742",
   "metadata": {},
   "outputs": [],
   "source": [
    "\n",
    "scaler = StandardScaler()\n",
    "X_train_scaled = scaler.fit_transform(X_train)\n",
    "X_test_scaled = scaler.transform(X_test)\n",
    "\n",
    "ridge_no_scaling = Ridge(alpha=1).fit(X_train, y_train)\n",
    "ridge_scaled = Ridge(alpha=1).fit(X_train_scaled, y_train)\n",
    "\n",
    "print(\"Без стандартизации:\", mean_squared_error(y_test, ridge_no_scaling.predict(X_test), squared=False))\n",
    "print(\"Со стандартизацией:\", mean_squared_error(y_test, ridge_scaled.predict(X_test_scaled), squared=False))\n"
   ]
  },
  {
   "cell_type": "markdown",
   "id": "bb1f5bfa",
   "metadata": {},
   "source": [
    "## Задание 4: Влияние дисперсии признаков"
   ]
  },
  {
   "cell_type": "code",
   "execution_count": null,
   "id": "7047cc73",
   "metadata": {},
   "outputs": [],
   "source": [
    "\n",
    "variances = X.var()\n",
    "ridge = Ridge(alpha=1).fit(X_train, y_train)\n",
    "coef_variance = pd.DataFrame({'feature': X.columns, 'variance': variances, 'coef': ridge.coef_})\n",
    "coef_variance.sort_values('variance', ascending=False)\n"
   ]
  },
  {
   "cell_type": "markdown",
   "id": "20dd552b",
   "metadata": {},
   "source": [
    "## Задание 5: Оптимальное λ через кросс-валидацию"
   ]
  },
  {
   "cell_type": "code",
   "execution_count": null,
   "id": "0bf505b0",
   "metadata": {},
   "outputs": [],
   "source": [
    "\n",
    "params = {'alpha': np.logspace(-3, 3, 50)}\n",
    "grid = GridSearchCV(Ridge(), params, cv=5, scoring='neg_root_mean_squared_error')\n",
    "grid.fit(X_train, y_train)\n",
    "print(\"Лучшее λ:\", grid.best_params_)\n",
    "print(\"RMSE:\", -grid.best_score_)\n"
   ]
  },
  {
   "cell_type": "markdown",
   "id": "3dacfa6e",
   "metadata": {},
   "source": [
    "## Задание 6: Сравнение OLS и Ridge"
   ]
  },
  {
   "cell_type": "code",
   "execution_count": null,
   "id": "29375ccf",
   "metadata": {},
   "outputs": [],
   "source": [
    "\n",
    "ols = LinearRegression().fit(X_train, y_train)\n",
    "ridge_best = Ridge(alpha=grid.best_params_['alpha']).fit(X_train, y_train)\n",
    "\n",
    "print(\"OLS RMSE:\", mean_squared_error(y_test, ols.predict(X_test), squared=False))\n",
    "print(\"Ridge RMSE:\", mean_squared_error(y_test, ridge_best.predict(X_test), squared=False))\n"
   ]
  },
  {
   "cell_type": "markdown",
   "id": "c4b63d17",
   "metadata": {},
   "source": [
    "## Задание 7: Мультиколлинеарность"
   ]
  },
  {
   "cell_type": "code",
   "execution_count": null,
   "id": "4d819a20",
   "metadata": {},
   "outputs": [],
   "source": [
    "\n",
    "corr = X.corr()\n",
    "plt.figure(figsize=(10,8))\n",
    "plt.imshow(corr, cmap='coolwarm', vmin=-1, vmax=1)\n",
    "plt.colorbar()\n",
    "plt.title('Корреляция признаков')\n",
    "plt.show()\n"
   ]
  },
  {
   "cell_type": "markdown",
   "id": "ba84e66c",
   "metadata": {},
   "source": [
    "## Задание 8: Интерпретация коэффициентов при разном λ"
   ]
  },
  {
   "cell_type": "code",
   "execution_count": null,
   "id": "d2b7f3bb",
   "metadata": {},
   "outputs": [],
   "source": [
    "\n",
    "for a in [0.1, 1, 10]:\n",
    "    model = Ridge(alpha=a).fit(X_train, y_train)\n",
    "    coefs = pd.Series(model.coef_, index=X.columns).sort_values(ascending=False)\n",
    "    print(f\"λ={a}\")\n",
    "    display(coefs.head(3))\n"
   ]
  },
  {
   "cell_type": "markdown",
   "id": "3e91e0e0",
   "metadata": {},
   "source": [
    "## Задание 9: Кривые обучения"
   ]
  },
  {
   "cell_type": "code",
   "execution_count": null,
   "id": "0e796c32",
   "metadata": {},
   "outputs": [],
   "source": [
    "\n",
    "train_sizes, train_scores, test_scores = learning_curve(Ridge(alpha=1), X, y, cv=5, scoring='r2',\n",
    "                                                        train_sizes=np.linspace(0.1, 1, 10))\n",
    "plt.plot(train_sizes, np.mean(train_scores, axis=1), label='Train')\n",
    "plt.plot(train_sizes, np.mean(test_scores, axis=1), label='Validation')\n",
    "plt.xlabel('Размер обучающей выборки')\n",
    "plt.ylabel('R²')\n",
    "plt.legend()\n",
    "plt.title('Кривая обучения Ridge (λ=1)')\n",
    "plt.show()\n"
   ]
  },
  {
   "cell_type": "markdown",
   "id": "e76da423",
   "metadata": {},
   "source": [
    "## Задание 10: Модификация регуляризации (feature-specific λ)"
   ]
  },
  {
   "cell_type": "code",
   "execution_count": null,
   "id": "c47acd7b",
   "metadata": {},
   "outputs": [],
   "source": [
    "\n",
    "var = X.var()\n",
    "lambdas = 1 / (var + 1e-5)\n",
    "ridge_custom = Ridge(alpha=1)\n",
    "ridge_custom.fit(X_train * lambdas.values, y_train)\n",
    "print(\"Коэффициенты с учётом весов:\", ridge_custom.coef_)\n"
   ]
  }
 ],
 "metadata": {
  "kernelspec": {
   "display_name": "conda1",
   "language": "python",
   "name": "python3"
  },
  "language_info": {
   "codemirror_mode": {
    "name": "ipython",
    "version": 3
   },
   "file_extension": ".py",
   "mimetype": "text/x-python",
   "name": "python",
   "nbconvert_exporter": "python",
   "pygments_lexer": "ipython3",
   "version": "3.10.16"
  }
 },
 "nbformat": 4,
 "nbformat_minor": 5
}
